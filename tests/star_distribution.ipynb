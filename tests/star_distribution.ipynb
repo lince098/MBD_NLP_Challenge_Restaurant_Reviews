{
 "cells": [
  {
   "cell_type": "code",
   "execution_count": 1,
   "metadata": {},
   "outputs": [],
   "source": [
    "import pandas as pd\n",
    "import matplotlib.pyplot as plt"
   ]
  },
  {
   "cell_type": "code",
   "execution_count": 3,
   "metadata": {},
   "outputs": [
    {
     "data": {
      "text/html": [
       "<div>\n",
       "<style scoped>\n",
       "    .dataframe tbody tr th:only-of-type {\n",
       "        vertical-align: middle;\n",
       "    }\n",
       "\n",
       "    .dataframe tbody tr th {\n",
       "        vertical-align: top;\n",
       "    }\n",
       "\n",
       "    .dataframe thead th {\n",
       "        text-align: right;\n",
       "    }\n",
       "</style>\n",
       "<table border=\"1\" class=\"dataframe\">\n",
       "  <thead>\n",
       "    <tr style=\"text-align: right;\">\n",
       "      <th></th>\n",
       "      <th>page</th>\n",
       "      <th>link</th>\n",
       "      <th>user</th>\n",
       "      <th>title</th>\n",
       "      <th>body</th>\n",
       "      <th>rating</th>\n",
       "    </tr>\n",
       "  </thead>\n",
       "  <tbody>\n",
       "    <tr>\n",
       "      <th>0</th>\n",
       "      <td>1</td>\n",
       "      <td>https://www.tripadvisor.es/ShowUserReviews-g31...</td>\n",
       "      <td>Amber C</td>\n",
       "      <td>Best signature cocktails</td>\n",
       "      <td>The mixologist at the bar, Damien, is masterfu...</td>\n",
       "      <td>5</td>\n",
       "    </tr>\n",
       "    <tr>\n",
       "      <th>1</th>\n",
       "      <td>1</td>\n",
       "      <td>https://www.tripadvisor.es/ShowUserReviews-g31...</td>\n",
       "      <td>Paul D</td>\n",
       "      <td>An exceptional over the top dining experience ...</td>\n",
       "      <td>We made 1 mistake. We only booked one night he...</td>\n",
       "      <td>5</td>\n",
       "    </tr>\n",
       "    <tr>\n",
       "      <th>2</th>\n",
       "      <td>1</td>\n",
       "      <td>https://www.tripadvisor.es/ShowUserReviews-g31...</td>\n",
       "      <td>Badcopbubby</td>\n",
       "      <td>Flawless!</td>\n",
       "      <td>We ate here 3 of our 5 nights while staying at...</td>\n",
       "      <td>5</td>\n",
       "    </tr>\n",
       "    <tr>\n",
       "      <th>3</th>\n",
       "      <td>1</td>\n",
       "      <td>https://www.tripadvisor.es/ShowUserReviews-g31...</td>\n",
       "      <td>Conklin-Villegas</td>\n",
       "      <td>Tastebud feast!</td>\n",
       "      <td>It was our last night at the resort and we wer...</td>\n",
       "      <td>5</td>\n",
       "    </tr>\n",
       "    <tr>\n",
       "      <th>4</th>\n",
       "      <td>1</td>\n",
       "      <td>https://www.tripadvisor.es/ShowUserReviews-g31...</td>\n",
       "      <td>Brian F</td>\n",
       "      <td>First rate dining</td>\n",
       "      <td>Fantastic culinary experience and the best res...</td>\n",
       "      <td>5</td>\n",
       "    </tr>\n",
       "  </tbody>\n",
       "</table>\n",
       "</div>"
      ],
      "text/plain": [
       "   page                                               link              user   \n",
       "0     1  https://www.tripadvisor.es/ShowUserReviews-g31...           Amber C  \\\n",
       "1     1  https://www.tripadvisor.es/ShowUserReviews-g31...            Paul D   \n",
       "2     1  https://www.tripadvisor.es/ShowUserReviews-g31...       Badcopbubby   \n",
       "3     1  https://www.tripadvisor.es/ShowUserReviews-g31...  Conklin-Villegas   \n",
       "4     1  https://www.tripadvisor.es/ShowUserReviews-g31...           Brian F   \n",
       "\n",
       "                                               title   \n",
       "0                           Best signature cocktails  \\\n",
       "1  An exceptional over the top dining experience ...   \n",
       "2                                          Flawless!   \n",
       "3                                    Tastebud feast!   \n",
       "4                                  First rate dining   \n",
       "\n",
       "                                                body  rating  \n",
       "0  The mixologist at the bar, Damien, is masterfu...       5  \n",
       "1  We made 1 mistake. We only booked one night he...       5  \n",
       "2  We ate here 3 of our 5 nights while staying at...       5  \n",
       "3  It was our last night at the resort and we wer...       5  \n",
       "4  Fantastic culinary experience and the best res...       5  "
      ]
     },
     "execution_count": 3,
     "metadata": {},
     "output_type": "execute_result"
    }
   ],
   "source": [
    "df = pd.read_csv(\"../data/tripadvisor.csv\")\n",
    "df.head()"
   ]
  },
  {
   "cell_type": "code",
   "execution_count": 5,
   "metadata": {},
   "outputs": [
    {
     "name": "stdout",
     "output_type": "stream",
     "text": [
      "<class 'pandas.core.frame.DataFrame'>\n",
      "RangeIndex: 50 entries, 0 to 49\n",
      "Data columns (total 6 columns):\n",
      " #   Column  Non-Null Count  Dtype \n",
      "---  ------  --------------  ----- \n",
      " 0   page    50 non-null     int64 \n",
      " 1   link    50 non-null     object\n",
      " 2   user    50 non-null     object\n",
      " 3   title   50 non-null     object\n",
      " 4   body    50 non-null     object\n",
      " 5   rating  50 non-null     int64 \n",
      "dtypes: int64(2), object(4)\n",
      "memory usage: 2.5+ KB\n"
     ]
    }
   ],
   "source": [
    "df.info()"
   ]
  },
  {
   "cell_type": "code",
   "execution_count": 10,
   "metadata": {},
   "outputs": [],
   "source": [
    "df1 = df.groupby(\"rating\").count().reset_index().iloc[:, :2]\n",
    "df1.rename(columns={df1.columns[1]: \"count\"})"
   ]
  },
  {
   "cell_type": "code",
   "execution_count": 12,
   "metadata": {},
   "outputs": [
    {
     "data": {
      "text/plain": [
       "'page'"
      ]
     },
     "execution_count": 12,
     "metadata": {},
     "output_type": "execute_result"
    }
   ],
   "source": [
    "df1.columns[1]"
   ]
  },
  {
   "cell_type": "code",
   "execution_count": 13,
   "metadata": {},
   "outputs": [
    {
     "data": {
      "text/html": [
       "<div>\n",
       "<style scoped>\n",
       "    .dataframe tbody tr th:only-of-type {\n",
       "        vertical-align: middle;\n",
       "    }\n",
       "\n",
       "    .dataframe tbody tr th {\n",
       "        vertical-align: top;\n",
       "    }\n",
       "\n",
       "    .dataframe thead th {\n",
       "        text-align: right;\n",
       "    }\n",
       "</style>\n",
       "<table border=\"1\" class=\"dataframe\">\n",
       "  <thead>\n",
       "    <tr style=\"text-align: right;\">\n",
       "      <th></th>\n",
       "      <th>rating</th>\n",
       "      <th>count</th>\n",
       "    </tr>\n",
       "  </thead>\n",
       "  <tbody>\n",
       "    <tr>\n",
       "      <th>0</th>\n",
       "      <td>4</td>\n",
       "      <td>2</td>\n",
       "    </tr>\n",
       "    <tr>\n",
       "      <th>1</th>\n",
       "      <td>5</td>\n",
       "      <td>48</td>\n",
       "    </tr>\n",
       "  </tbody>\n",
       "</table>\n",
       "</div>"
      ],
      "text/plain": [
       "   rating  count\n",
       "0       4      2\n",
       "1       5     48"
      ]
     },
     "execution_count": 13,
     "metadata": {},
     "output_type": "execute_result"
    }
   ],
   "source": [
    "df1.rename(columns={df1.columns[1]: \"count\"})"
   ]
  }
 ],
 "metadata": {
  "kernelspec": {
   "display_name": "nlp",
   "language": "python",
   "name": "python3"
  },
  "language_info": {
   "codemirror_mode": {
    "name": "ipython",
    "version": 3
   },
   "file_extension": ".py",
   "mimetype": "text/x-python",
   "name": "python",
   "nbconvert_exporter": "python",
   "pygments_lexer": "ipython3",
   "version": "3.10.11"
  },
  "orig_nbformat": 4
 },
 "nbformat": 4,
 "nbformat_minor": 2
}
