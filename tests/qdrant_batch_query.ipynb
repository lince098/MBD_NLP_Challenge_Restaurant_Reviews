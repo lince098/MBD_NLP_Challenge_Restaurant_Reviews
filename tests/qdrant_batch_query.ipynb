{
 "cells": [
  {
   "cell_type": "code",
   "execution_count": 1,
   "metadata": {},
   "outputs": [
    {
     "name": "stderr",
     "output_type": "stream",
     "text": [
      "c:\\Users\\Zaloon098\\anaconda3\\envs\\nlp\\lib\\site-packages\\tqdm\\auto.py:21: TqdmWarning: IProgress not found. Please update jupyter and ipywidgets. See https://ipywidgets.readthedocs.io/en/stable/user_install.html\n",
      "  from .autonotebook import tqdm as notebook_tqdm\n"
     ]
    }
   ],
   "source": [
    "from sentence_transformers import SentenceTransformer\n",
    "from qdrant_client import QdrantClient\n",
    "from qdrant_client.http.models import SearchRequest, NamedVectorStruct\n",
    "import numpy as np"
   ]
  },
  {
   "cell_type": "code",
   "execution_count": 2,
   "metadata": {},
   "outputs": [
    {
     "name": "stdout",
     "output_type": "stream",
     "text": [
      "384\n"
     ]
    }
   ],
   "source": [
    "sentences = [\n",
    "    \"What a shitty restaurant! The food was horrible. I hope a health inspection catches you by surprise!\",\n",
    "    \"This restaurant has impressive views i really enjoyed coming here for a lunch\",\n",
    "]\n",
    "\n",
    "model = SentenceTransformer(\"sentence-transformers/all-MiniLM-L6-v2\")\n",
    "embeddings = model.encode(sentences)\n",
    "print(len(embeddings[0]))"
   ]
  },
  {
   "cell_type": "code",
   "execution_count": 3,
   "metadata": {},
   "outputs": [],
   "source": [
    "qdrant = QdrantClient(\"localhost\", port=6333)"
   ]
  },
  {
   "cell_type": "code",
   "execution_count": 4,
   "metadata": {},
   "outputs": [
    {
     "data": {
      "text/plain": [
       "[0.012072589248418808, 0.089756079018116, 0.04744037240743637]"
      ]
     },
     "execution_count": 4,
     "metadata": {},
     "output_type": "execute_result"
    }
   ],
   "source": [
    "embeddings[0].tolist()[:3]"
   ]
  },
  {
   "cell_type": "code",
   "execution_count": 5,
   "metadata": {},
   "outputs": [
    {
     "data": {
      "text/plain": [
       "SearchRequest(vector=[1.0, 2.0, 3.0], filter=None, params=None, limit=1, offset=0, with_payload=None, with_vector=None, score_threshold=None)"
      ]
     },
     "execution_count": 5,
     "metadata": {},
     "output_type": "execute_result"
    }
   ],
   "source": [
    "SearchRequest(vector=[1.0, 2.0, 3.0], limit=1)"
   ]
  },
  {
   "cell_type": "code",
   "execution_count": 6,
   "metadata": {},
   "outputs": [],
   "source": [
    "requests = [\n",
    "    SearchRequest(vector=v.tolist(), limit=1, with_payload=True) for v in embeddings\n",
    "]"
   ]
  },
  {
   "cell_type": "code",
   "execution_count": 7,
   "metadata": {},
   "outputs": [],
   "source": [
    "hits_unflattened = qdrant.search_batch(\n",
    "    collection_name=\"restaurant_review_answers\", requests=requests\n",
    ")"
   ]
  },
  {
   "cell_type": "code",
   "execution_count": 8,
   "metadata": {},
   "outputs": [
    {
     "data": {
      "text/plain": [
       "[ScoredPoint(id=21, version=0, score=0.5444159, payload={'answer': \"We're sorry to hear that your visit to our beach restaurant didn't meet your expectations. We appreciate your feedback and will work hard to address the issues you mentioned. We hope to have another opportunity to serve you better in the future.\\n\"}, vector=None),\n",
       " ScoredPoint(id=18, version=0, score=0.6271736, payload={'answer': \"Thank you for your honest review of our beach restaurant. We're committed to delivering a memorable dining experience, and we'll use your feedback to identify areas for improvement.\\n\"}, vector=None)]"
      ]
     },
     "execution_count": 8,
     "metadata": {},
     "output_type": "execute_result"
    }
   ],
   "source": [
    "from itertools import chain\n",
    "\n",
    "hits = list(chain.from_iterable(hits_unflattened))\n",
    "hits"
   ]
  },
  {
   "cell_type": "code",
   "execution_count": 9,
   "metadata": {},
   "outputs": [
    {
     "name": "stdout",
     "output_type": "stream",
     "text": [
      "Review: What a shitty restaurant! The food was horrible. I hope a health inspection catches you by surprise!\n",
      "Answer (score: 0.5444159): We're sorry to hear that your visit to our beach restaurant didn't meet your expectations. We appreciate your feedback and will work hard to address the issues you mentioned. We hope to have another opportunity to serve you better in the future.\n",
      "\n",
      "Review: This restaurant has impressive views i really enjoyed coming here for a lunch\n",
      "Answer (score: 0.6271736): Thank you for your honest review of our beach restaurant. We're committed to delivering a memorable dining experience, and we'll use your feedback to identify areas for improvement.\n",
      "\n"
     ]
    }
   ],
   "source": [
    "for sentence, hit in zip(sentences, hits):\n",
    "    print(\"Review: \" + sentence)\n",
    "    print(f\"Answer (score: {hit.score}): \" + hit.payload[\"answer\"])"
   ]
  }
 ],
 "metadata": {
  "kernelspec": {
   "display_name": "nlp",
   "language": "python",
   "name": "python3"
  },
  "language_info": {
   "codemirror_mode": {
    "name": "ipython",
    "version": 3
   },
   "file_extension": ".py",
   "mimetype": "text/x-python",
   "name": "python",
   "nbconvert_exporter": "python",
   "pygments_lexer": "ipython3",
   "version": "3.10.11"
  },
  "orig_nbformat": 4
 },
 "nbformat": 4,
 "nbformat_minor": 2
}
